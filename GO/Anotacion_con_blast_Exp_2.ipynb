{
 "cells": [
  {
   "cell_type": "markdown",
   "metadata": {},
   "source": [
    "# <br/><br/><br/>1. Anotacion de transcritos\n",
    "# 2. Visualizacion de resultados en R<br/>\n",
    "# <span style=\"color:red\">!!! IMPORTANTE !!!</span>\n",
    "\n",
    "## Requerimientos para la Ontologia <br/>\n",
    ">### 1.- go.obo \n",
    ">### 2.- GO slim (goslim_generic)\n",
    ">### 3.- Transcritos en formato fasta\n",
    ">### 4.- Tener instalado BLAST\n",
    "# <br/><br/>"
   ]
  },
  {
   "cell_type": "code",
   "execution_count": null,
   "metadata": {},
   "outputs": [],
   "source": [
    "## Importamos modulos requeridos\n",
    "from urllib.request import urlopen\n",
    "from bs4 import BeautifulSoup\n",
    "import requests\n",
    "import shutil, os\n",
    "from pandas import Series, DataFrame \n",
    "import pandas as pd\n",
    "import pathlib\n",
    "pd.set_option('max_rows',100000)\n",
    "pd.set_option('max_colwidth',100000)\n",
    "import urllib.request\n",
    "import webbrowser\n",
    "import re\n",
    "import numpy as np\n",
    "from time import sleep\n",
    "import subprocess\n",
    "from subprocess import Popen, PIPE, STDOUT\n",
    "import shutil\n",
    "from IPython.display import Image\n",
    "from IPython.core.display import HTML\n",
    "from datetime import datetime "
   ]
  },
  {
   "cell_type": "code",
   "execution_count": null,
   "metadata": {},
   "outputs": [],
   "source": [
    "os.makedirs('../data/Experimento2_GOslim_blast',exist_ok=True) "
   ]
  },
  {
   "cell_type": "markdown",
   "metadata": {},
   "source": [
    "# 1.- Descargas (go.obo y GO slim)<br/>"
   ]
  },
  {
   "cell_type": "code",
   "execution_count": null,
   "metadata": {},
   "outputs": [],
   "source": [
    "if os.path.exists(\"../data/Experimento2_GOslim_blast//go.obo\"): \n",
    "    print ('■■■ El archivo go.obo ya existe, no se descargará de la red')\n",
    "    if os.path.exists(\"../data/Experimento2_GOslim_blast/all_go.txt\"):\n",
    "        print('■■■ El archivo all_go.txt ya existe')\n",
    "    else:\n",
    "        ## este aschivo sirve para generar un GAF nuevo\n",
    "        output4=Popen(\"grep -e '^id: GO:' -e '^name: ' -e '^namespace: ' -e '.Typedef.' ../data/Experimento2_GOslim_blast/go.obo | sed 's/id:/#id:/g' | perl -p -e 's/\\n/\\t/g' | sed 's/.Typedef.*//g' | perl -p -e 's/#/\\n/g' | sed 's/id: //g; s/name: //g; s/namespace: //g' | sed '/^$/d' | sed 's/\\t$//g' | sed 's/biological_process/P/g; s/molecular_function/F/g; s/cellular_component/C/g' | grep -v -e '\\tC\\tC' -v -e '\\tF\\tF' -v -e '\\tP\\tP' > ../data/Experimento2_GOslim_blast//all_go.txt\",\n",
    "              shell=True, stdin=PIPE, stdout=PIPE, stderr=STDOUT, close_fds=True).stdout.read()\n",
    "        print('■■■ Se ha creado el archivo all_go.txt')\n",
    "else:\n",
    "    ## descarga de la ontologia de genes\n",
    "    output1=urllib.request.urlretrieve('http://snapshot.geneontology.org/ontology/go.obo','../data/Experimento2_GOslim_blast/go.obo')\n",
    "    print('■■■ Se ha descargado el archivo go.obo')\n",
    "    if os.path.exists(\"../data/Experimento2_GOslim_blast/all_go.txt\"):\n",
    "        print('■■■ El archivo all_go.txt ya existe')\n",
    "    else:\n",
    "        ## este aschivo sirve para generar un GAF nuevo\n",
    "        output4=Popen(\"grep -e '^id: GO:' -e '^name: ' -e '^namespace: ' -e '.Typedef.' ../data/Experimento2_GOslim_blast/go.obo | sed 's/id:/#id:/g' | perl -p -e 's/\\n/\\t/g' | sed 's/.Typedef.*//g' | perl -p -e 's/#/\\n/g' | sed 's/id: //g; s/name: //g; s/namespace: //g' | sed '/^$/d' | sed 's/\\t$//g' | sed 's/biological_process/P/g; s/molecular_function/F/g; s/cellular_component/C/g' | grep -v -e '\\tC\\tC' -v -e '\\tF\\tF' -v -e '\\tP\\tP' > ../data/Experimento2_GOslim_blast/all_go.txt\",\n",
    "              shell=True, stdin=PIPE, stdout=PIPE, stderr=STDOUT, close_fds=True).stdout.read()        \n",
    "        print('■■■ Se ha creado el archivo all_go.txt')\n",
    "if os.path.exists(\"../data/Experimento2_GOslim_blast/goslim_generic.txt\"):\n",
    "    print ('■■■ El archivo goslim_generic.txt ya existe, no se descargará de la red')\n",
    "else:\n",
    "    ## descargamos el go-slim desde el Gene Ontology Consortium\n",
    "    output3=urllib.request.urlretrieve('ftp://ftp.geneontology.org/go/GO_slims/goslim_generic.obo','../data/Experimento2_GOslim_blast/goslim_generic.obo')\n",
    "    ## Ahora le hacemos una ligera edicion para obtener tres columnas: GO ID, término y aspecto\n",
    "    print('■■■ Se ha descargado goslim_generic.obo')\n",
    "    output4=Popen(\"grep -e '^id: GO:' -e '^name: ' -e '^namespace: ' -e '.Typedef.' ../data/Experimento2_GOslim_blast/goslim_generic.obo | sed 's/id:/#id:/g' | perl -p -e 's/\\n/\\t/g' | sed 's/.Typedef.*//g' | perl -p -e 's/#/\\n/g' | sed 's/id: //g; s/name: //g; s/namespace: //g' | sed '/^$/d' | sed 's/\\t$//g' | sed 's/biological_process/P/g; s/molecular_function/F/g; s/cellular_component/C/g' | grep -v -e '\\tC\\tC' -v -e '\\tF\\tF' -v -e '\\tP\\tP'  > ../data/Experimento2_GOslim_blast/goslim_generic.txt\",\n",
    "              shell=True, stdin=PIPE, stdout=PIPE, stderr=STDOUT, close_fds=True).stdout.read()\n",
    "    print('■■■ Se ha creado el archivo goslim_generic.txt')\n",
    "    if os.path.exists(\"../data/Experimento2_GOslim_blast/goslim_generic.obo\"): os.remove(\"../data/Experimento2_GOslim_blast/goslim_generic.obo\")"
   ]
  },
  {
   "cell_type": "code",
   "execution_count": null,
   "metadata": {},
   "outputs": [],
   "source": []
  },
  {
   "cell_type": "markdown",
   "metadata": {},
   "source": [
    "# 2.- Transcriptoma en estudio (fasta) \n",
    ">## Las secuencias de nucleotidos <span style=\"color:green\">8_S356_contigs.fa</span> (fasta) se obtuvo despues de haber corrido el programa Trinity"
   ]
  },
  {
   "cell_type": "code",
   "execution_count": null,
   "metadata": {},
   "outputs": [],
   "source": [
    "## Descarga del archivo fasta desde github\n",
    "output=urllib.request.urlretrieve('https://raw.githubusercontent.com/eduardo1011/Programas/master/GO/8_S356_contigs.fa','../data/Experimento2_GOslim_blast/8_S356_contigs.fa')"
   ]
  },
  {
   "cell_type": "markdown",
   "metadata": {},
   "source": [
    "# 3.- Blastx"
   ]
  },
  {
   "cell_type": "code",
   "execution_count": null,
   "metadata": {},
   "outputs": [],
   "source": [
    "## Nombre de cada columna del resultado del blastx\n",
    "header=(\"qacc\",\"GENE PRODUCT ID\",\"qlen\",\"slen\",\"length\",\"score\",\"bitscore\",\"evalue\",\"pident\",\"nident\",\n",
    "                  \"mismatch\",\"positive\",\"gaps\",\"gapopen\",\"stitle\")"
   ]
  },
  {
   "cell_type": "code",
   "execution_count": null,
   "metadata": {},
   "outputs": [],
   "source": [
    "## Ejecutamos el programa blastx (busca nucleotidos traducidos dentro en una base de datos de proteínas)\n",
    "inicio = datetime.now()\n",
    "#\n",
    "!blastx -db ~/Desktop/bigdata/uniprot/uniprot.fasta \\\n",
    "-query ~/Desktop/data/fasta/8_S356_contigs.fa \\\n",
    "-evalue 1E-6 -outfmt '6 qacc sacc qlen slen length score bitscore evalue pident nident mismatch positive gaps gapopen stitle' \\\n",
    "-max_target_seqs 1 \\\n",
    "-max_hsps 1 \\\n",
    "-num_threads 6 \\\n",
    "-out ../data/Experimento2_GOslim_blast/blastx\n",
    "#\n",
    "lapso = datetime.now() - inicio\n",
    "print('\\nTiempo (hh:mm:ss.ms) {}'.format(lapso)+'\\n')"
   ]
  },
  {
   "cell_type": "code",
   "execution_count": null,
   "metadata": {
    "scrolled": false
   },
   "outputs": [],
   "source": [
    "## Abrimos el resultado del blastx\n",
    "blastx=pd.read_csv('../data/Experimento2_GOslim_blast/blastx',sep='\\t',names=header)\n",
    "print('\\n',blastx[['qacc']].drop_duplicates().count().iloc[0],'transcritos')\n",
    "print('\\n',blastx[['GENE PRODUCT ID']].drop_duplicates().count().iloc[0],' proteinas')\n",
    "blastx.head(3)"
   ]
  },
  {
   "cell_type": "code",
   "execution_count": null,
   "metadata": {},
   "outputs": [],
   "source": [
    "### Se puede aplicar un filtro antes de seguir con el analisis\n",
    "#proteínas con >80% de identidad\n",
    "#\n",
    "#blastx=blastx[(blastx.pident >= 80) & (blastx.pident <= 100)].reset_index(drop=True).drop_duplicates()\n",
    "#print('\\n',blastx[['GENE PRODUCT ID']].drop_duplicates().count().iloc[0],' proteinas con identidad mayor al 80%')\n",
    "print('\\n',blastx[(blastx.pident >= 80) & (blastx.pident <= 100)].reset_index(drop=True).drop_duplicates().count().iloc[0],' secuencias de proteinas con identidad mayor al 80%\\n')\n",
    "#blastx.head(3)"
   ]
  },
  {
   "cell_type": "markdown",
   "metadata": {},
   "source": [
    "# 4.- Extraemos informacion funcional desde QuickGO\n",
    "## Sintaxis del comando para extraer informacion desde QuickGO\n",
    "## <span style=\"color:blue\">\" url + GO terms del goslim + IDs de productos de genes + salvar el archivo \"</span><br/>"
   ]
  },
  {
   "cell_type": "code",
   "execution_count": null,
   "metadata": {},
   "outputs": [],
   "source": [
    "## abrimos el GO slim especifico y lo asignamos\n",
    "goslim_specific=pd.read_table('../data/Experimento2_GOslim_blast/goslim_generic.txt',names=['GO TERM','TERM','SLIM ASPECT'])\n",
    "goslim_specific.head()"
   ]
  },
  {
   "cell_type": "code",
   "execution_count": null,
   "metadata": {},
   "outputs": [],
   "source": [
    "## guardamos en una variable la ontologia completa\n",
    "all_GO_terms=pd.read_table('../data/Experimento2_GOslim_blast/all_go.txt',names=['SLIMMED FROM','ALL TERM','GO ASPECT'])\n",
    "all_GO_terms.head()"
   ]
  },
  {
   "cell_type": "code",
   "execution_count": null,
   "metadata": {},
   "outputs": [],
   "source": [
    "## Conteo de GO terms de la ontologia completa\n",
    "ont_completa=all_GO_terms.groupby('GO ASPECT')['SLIMMED FROM'].count().reset_index().sort_values(by ='SLIMMED FROM',ascending=False)\n",
    "ont_completa= DataFrame(ont_completa)\n",
    "ont_completa"
   ]
  },
  {
   "cell_type": "code",
   "execution_count": null,
   "metadata": {},
   "outputs": [],
   "source": []
  },
  {
   "cell_type": "code",
   "execution_count": null,
   "metadata": {},
   "outputs": [],
   "source": [
    "## Preparamos el goslim\n",
    "## guardamos la salida de un comando de linux en una variable\n",
    "goslim=Popen(\"cut -f1 ../data/Experimento2_GOslim_blast/goslim_generic.txt | perl -p -e 's/\\n/\\t/g' | sed 's/\\t/,/g' | sed 's/,$//' \",\n",
    "          shell=True, stdin=PIPE, stdout=PIPE, stderr=STDOUT, close_fds=True).stdout.read().decode()\n",
    "print('\\n',type(goslim))\n",
    "print('\\n',goslim,'\\n')"
   ]
  },
  {
   "cell_type": "code",
   "execution_count": null,
   "metadata": {},
   "outputs": [],
   "source": [
    "## Preparamos los IDs de las proteinas\n",
    "## Extraemos el \"ID subject\" del blastx y creamos una cadena para extraer informacion de QuickGO\n",
    "ids_blastx=Popen(\"cut -f2 ../data/Experimento2_GOslim_blast/blastx | sort | uniq | perl -p -e 's/\\n/,UniProtKB:/g' | sed 's/,UniProtKB:$//' | sed 's/^/UniProtKB:/' \",\n",
    "          shell=True, stdin=PIPE, stdout=PIPE, stderr=STDOUT, close_fds=True).stdout.read().decode()\n",
    "print('\\n',type(ids_blastx))\n",
    "print('\\n',ids_blastx,'\\n')"
   ]
  },
  {
   "cell_type": "code",
   "execution_count": null,
   "metadata": {
    "scrolled": false
   },
   "outputs": [],
   "source": [
    "## Extraemos informacion funcional de los productos de genes desde QuickGO\n",
    "\n",
    "## guardamos una variable constante (URL)\n",
    "services_QuickGO = 'https://www.ebi.ac.uk/QuickGO/services/annotation/downloadSearch?goUsage=slim&goUsageRelationships=is_a,part_of,occurs_in&goId='\n",
    "out = Popen(\"curl -X GET --header 'Accept:text/tsv' '\"+services_QuickGO+goslim+\"&geneProductId=\"+ids_blastx+\"' > ../data/Experimento2_GOslim_blast/quickgo\",\n",
    "            shell=True, stdin=PIPE, stdout=PIPE, stderr=STDOUT, close_fds=True).stdout.read()\n",
    "\n",
    "## Abrimos el archivo descargado extraemos las columnas: entry GO-id\n",
    "go_quickgo=pd.read_csv('../data/Experimento2_GOslim_blast/quickgo',sep='\\t')\n",
    "print('\\n',go_quickgo[['GENE PRODUCT ID']].drop_duplicates().count().iloc[0],' productos de genes con GO terms')\n",
    "go_quickgo.head()"
   ]
  },
  {
   "cell_type": "code",
   "execution_count": null,
   "metadata": {
    "scrolled": true
   },
   "outputs": [],
   "source": [
    "## Descargamos un programa de perl para extraer informacion desde uniprot\n",
    "output=urllib.request.urlretrieve('https://raw.githubusercontent.com/eduardo1011/Programas/master/Retrieve--information-id_from_IDUniprot.pl','../data/Experimento2_GOslim_blast/Retrieve--information-id_from_IDUniprot.pl')\n",
    "\n",
    "go_quickgo[['GENE PRODUCT ID']].drop_duplicates().to_csv('../data/Experimento2_GOslim_blast/IDs.csv',index=None,header=None)\n",
    "\n",
    "out3 = Popen(\"perl ../data/Experimento2_GOslim_blast/Retrieve--information-id_from_IDUniprot.pl ../data/Experimento2_GOslim_blast/IDs.csv > ../data/Experimento2_GOslim_blast/IDs_information_uniprot.tab\",\n",
    "             shell=True, stdin=PIPE, stdout=PIPE, stderr=STDOUT, close_fds=True).stdout.read()\n",
    "\n",
    "orden_columnas=[0,1,2,3,4]\n",
    "names={'Entry':'GENE PRODUCT ID','Protein names':'PROTEIN NAME','Gene names':'GENE NAME','Organism':'ORGANISM','Organism ID':'TAXON ID'}\n",
    "informacion_uniprot=pd.read_csv('../data/Experimento2_GOslim_blast/IDs_information_uniprot.tab',\n",
    "                                sep='\\t',usecols=orden_columnas).rename(columns=names,index=str)\n",
    "informacion_uniprot.head()"
   ]
  },
  {
   "cell_type": "code",
   "execution_count": null,
   "metadata": {
    "scrolled": false
   },
   "outputs": [],
   "source": [
    "## A los resultados del blast le agregamos informacion extraida de uniprot\n",
    "quickgo_uniprot=pd.merge(go_quickgo,informacion_uniprot[['GENE PRODUCT ID','PROTEIN NAME','ORGANISM','TAXON ID']],on=['GENE PRODUCT ID','TAXON ID'],how='inner')\n",
    "quickgo_uniprot.head(3)"
   ]
  },
  {
   "cell_type": "code",
   "execution_count": null,
   "metadata": {},
   "outputs": [],
   "source": [
    "## a la tabla anterior le agregamos los terminos correspondientes a GOs especificos (SLIMMED FROM   ALL TERM)\n",
    "quickgo_uniprot_allGO=pd.merge(quickgo_uniprot,all_GO_terms[['SLIMMED FROM','ALL TERM']],on='SLIMMED FROM',how='inner')\n",
    "quickgo_uniprot_allGO.head(3)"
   ]
  },
  {
   "cell_type": "code",
   "execution_count": null,
   "metadata": {
    "scrolled": false
   },
   "outputs": [],
   "source": [
    "## a la tabla anterior le agregamos los terminos correspondientes al GO slim (GO TERM   TERM)\n",
    "anotacion=pd.merge(quickgo_uniprot_allGO,goslim_specific[['GO TERM','TERM','SLIM ASPECT']],on='GO TERM',how='inner')\n",
    "anotacion.head(4)"
   ]
  },
  {
   "cell_type": "code",
   "execution_count": null,
   "metadata": {},
   "outputs": [],
   "source": [
    "## organismos identificados despues del blastx\n",
    "org=anotacion[['GENE PRODUCT ID','ORGANISM','TAXON ID']].drop_duplicates().groupby(['TAXON ID','ORGANISM'])['GENE PRODUCT ID'].count().reset_index().sort_values(by ='GENE PRODUCT ID',ascending=False)\n",
    "org= DataFrame(org)\n",
    "org"
   ]
  },
  {
   "cell_type": "code",
   "execution_count": null,
   "metadata": {},
   "outputs": [],
   "source": [
    "## productos de genes por aspecto, version slim\n",
    "apecto_slim=anotacion[['GENE PRODUCT ID','SLIM ASPECT']].drop_duplicates().groupby('SLIM ASPECT')['GENE PRODUCT ID'].count().reset_index().sort_values(by ='GENE PRODUCT ID',ascending=False)\n",
    "apecto_slim= DataFrame(apecto_slim)\n",
    "apecto_slim.to_csv('../data/Experimento2_GOslim_blast/Total_categories_CFP.csv',header=None,index=None)\n",
    "apecto_slim"
   ]
  },
  {
   "cell_type": "code",
   "execution_count": null,
   "metadata": {},
   "outputs": [],
   "source": [
    "## productos de genes por aspecto, version completa\n",
    "apecto_completo=anotacion.groupby('GO ASPECT')['GENE PRODUCT ID'].count().reset_index().sort_values(by ='GENE PRODUCT ID',ascending=False)\n",
    "apecto_completo= DataFrame(apecto_completo)\n",
    "apecto_completo"
   ]
  },
  {
   "cell_type": "code",
   "execution_count": null,
   "metadata": {},
   "outputs": [],
   "source": [
    "## terminos por aspecto, version slim\n",
    "x=anotacion[['TERM','SLIM ASPECT']].drop_duplicates().groupby('SLIM ASPECT')['TERM'].count().reset_index().sort_values(by ='TERM',ascending=False)\n",
    "x= DataFrame(x)\n",
    "x"
   ]
  },
  {
   "cell_type": "code",
   "execution_count": null,
   "metadata": {},
   "outputs": [],
   "source": [
    "## productos de genes por GO term, version slim\n",
    "ontologia_slim=anotacion[['GENE PRODUCT ID','GO TERM','TERM','SLIM ASPECT']].drop_duplicates().groupby(['SLIM ASPECT','GO TERM','TERM'])['GENE PRODUCT ID'].count().reset_index().sort_values(by ='SLIM ASPECT',ascending=False)\n",
    "ontologia_slim= DataFrame(ontologia_slim)\n",
    "ontologia_slim"
   ]
  },
  {
   "cell_type": "code",
   "execution_count": null,
   "metadata": {
    "scrolled": false
   },
   "outputs": [],
   "source": [
    "## productos de genes por GO term, version completa\n",
    "ontologia_completa=anotacion[['GENE PRODUCT ID','SLIMMED FROM','ALL TERM',\n",
    "                              'GO ASPECT']].drop_duplicates().groupby(['GO ASPECT',\n",
    "                                                                       'SLIMMED FROM','ALL TERM'])['GENE PRODUCT ID'].count().reset_index().sort_values(by ='GENE PRODUCT ID',ascending=False)\n",
    "ontologia_completa= DataFrame(ontologia_completa)\n",
    "ontologia_completa"
   ]
  },
  {
   "cell_type": "code",
   "execution_count": null,
   "metadata": {
    "scrolled": false
   },
   "outputs": [],
   "source": [
    "## GO terms por termino, version slim\n",
    "go_terms_slim=anotacion.groupby('TERM')['GO TERM'].count().reset_index().sort_values(by ='GO TERM',ascending=False).reset_index(drop=True)\n",
    "go_terms_slim= DataFrame(go_terms_slim)\n",
    "go_terms_slim"
   ]
  },
  {
   "cell_type": "code",
   "execution_count": null,
   "metadata": {
    "scrolled": false
   },
   "outputs": [],
   "source": [
    "## GO terms por termino, version completa\n",
    "go_terms_completo=anotacion.groupby('ALL TERM')['SLIMMED FROM'].count().reset_index().sort_values(by ='SLIMMED FROM',ascending=False).reset_index(drop=True)\n",
    "go_terms_completo= DataFrame(go_terms_completo)\n",
    "go_terms_completo"
   ]
  },
  {
   "cell_type": "code",
   "execution_count": null,
   "metadata": {},
   "outputs": [],
   "source": [
    "## fuentes de anotacion y total de productos de genes anotados\n",
    "fuentes=anotacion[['GENE PRODUCT ID','ASSIGNED BY']].drop_duplicates().groupby('ASSIGNED BY')['GENE PRODUCT ID'].count().reset_index().sort_values(by ='GENE PRODUCT ID',ascending=False)\n",
    "fuentes= DataFrame(fuentes)\n",
    "fuentes"
   ]
  },
  {
   "cell_type": "code",
   "execution_count": null,
   "metadata": {},
   "outputs": [],
   "source": [
    "## fuentes de anotacion y GO terms\n",
    "fuentes_go=anotacion[['SLIMMED FROM','ASSIGNED BY']].drop_duplicates().groupby('ASSIGNED BY')['SLIMMED FROM'].count().reset_index().sort_values(by ='SLIMMED FROM',ascending=False)\n",
    "fuentes_go= DataFrame(fuentes_go)\n",
    "fuentes_go"
   ]
  },
  {
   "cell_type": "code",
   "execution_count": null,
   "metadata": {},
   "outputs": [],
   "source": []
  },
  {
   "cell_type": "markdown",
   "metadata": {},
   "source": [
    "# Resultados de la anotacion"
   ]
  },
  {
   "cell_type": "markdown",
   "metadata": {},
   "source": [
    "## Funcion molecular"
   ]
  },
  {
   "cell_type": "code",
   "execution_count": null,
   "metadata": {},
   "outputs": [],
   "source": [
    "anotacion_sindup=anotacion[['GENE PRODUCT ID','GO TERM','TERM','SLIM ASPECT']].drop_duplicates()"
   ]
  },
  {
   "cell_type": "code",
   "execution_count": null,
   "metadata": {
    "scrolled": true
   },
   "outputs": [],
   "source": [
    "## Molecular Function\n",
    "func=anotacion_sindup.groupby(['SLIM ASPECT']).get_group('F')\n",
    "function=func.groupby(['GO TERM','TERM']).count().reset_index().rename(columns={\"GO TERM\":\"GO\",\"TERM\": \"Molecular Function\",\"SLIM ASPECT\": \"Value\"}).sort_values(by ='Value',ascending=False).reset_index(drop=True)\n",
    "function[['GO','Molecular Function','Value']].to_csv('../data/Experimento2_GOslim_blast/Molecular_Function.csv',index=None)\n",
    "function\n",
    "#mayor_A_10=function[(function.Value >= 1)]\n",
    "#menor_A_10=function[(function.Value < 1)]\n",
    "#otros_terminos={'GO':['GOs'],'Molecular Function':['Other Functions'],'GENE PRODUCT ID':[sum(menor_A_10.Value)],'Value':[sum(menor_A_10.Value)]}\n",
    "#terminos=pd.DataFrame(otros_terminos)\n",
    "#others=pd.concat([mayor_A_10,terminos[['GO','Molecular Function','GENE PRODUCT ID','Value']]],axis=0)\n",
    "#others[['GO','Molecular Function','Value']].to_csv('../data/Experimento2_GOslim_blast/Molecular_Function.csv',index=None)\n",
    "#others#.head()"
   ]
  },
  {
   "cell_type": "code",
   "execution_count": null,
   "metadata": {
    "scrolled": true
   },
   "outputs": [],
   "source": [
    "## matriz para ver intersecciones entre terminos\n",
    "up_function=anotacion_sindup[anotacion_sindup['SLIM ASPECT'].str.contains(\"F\")==True]\n",
    "upset_function=up_function.pivot_table(values=\"TERM\",index=[\"GENE PRODUCT ID\"],aggfunc=len,columns=\"GO TERM\").fillna('0').reset_index()\n",
    "upset_function.to_csv('../data/Experimento2_GOslim_blast/Molecular_Function_matrix.csv',index=None)\n",
    "upset_function"
   ]
  },
  {
   "cell_type": "markdown",
   "metadata": {},
   "source": [
    "### Una forma de explorar y crear un grafico DAG con nuestros GO terms obtenidos\n",
    "http://amigo.geneontology.org/amigo/software_list"
   ]
  },
  {
   "cell_type": "code",
   "execution_count": null,
   "metadata": {},
   "outputs": [],
   "source": [
    "## guardamos la salida de un comando de linux en una variable\n",
    "str_DAG=Popen(\"cut -d',' -f1 ../data/Experimento2_GOslim_blast/Molecular_Function.csv | sed '1d' | perl -p -e 's/\\n/\\t/g' | sed 's/\\t/%0D%20/g' | sed 's/:/%3A/g' \",\n",
    "          shell=True, stdin=PIPE, stdout=PIPE, stderr=STDOUT, close_fds=True).stdout.read().decode()\n",
    "print('\\n',type(str_DAG))\n",
    "print('\\n',str_DAG,'\\n')\n",
    "#url_visualizacion='http://amigo.geneontology.org/visualize?format=png&inline=false&mode=amigo&term_data_type=string&term_data='\n",
    "url_visualizacion='http://amigo.geneontology.org/visualize?format=svg&mode=amigo&term_data='\n",
    "#import webbrowser\n",
    "#webbrowser.open(url_visualizacion+str_DAG, new=2)\n",
    "print(url_visualizacion+str_DAG+'&inline=false&term_data_type=string')"
   ]
  },
  {
   "cell_type": "markdown",
   "metadata": {},
   "source": [
    "## Proceso biologico"
   ]
  },
  {
   "cell_type": "code",
   "execution_count": null,
   "metadata": {},
   "outputs": [],
   "source": [
    "## Biological Process\n",
    "pros=anotacion_sindup.groupby(['SLIM ASPECT']).get_group('P')\n",
    "process=pros.groupby(['GO TERM','TERM']).count().reset_index().rename(columns={\"GO TERM\":\"GO\",\"TERM\": \"Biological Process\",\"SLIM ASPECT\": \"Value\"}).sort_values(by ='Value',ascending=False).reset_index(drop=True)\n",
    "process[['GO','Biological Process','Value']].to_csv('../data/Experimento2_GOslim_blast/Biological_Process.csv',index=None)\n",
    "process\n",
    "#mayor_A_10=process[(process.Value >= 1)]\n",
    "#menor_A_10=process[(process.Value < 1)]\n",
    "#otros_terminos={'GO':['GOs'],'Biological Process':['Other Processes'],'GENE PRODUCT ID':[sum(menor_A_10.Value)],'Value':[sum(menor_A_10.Value)]}\n",
    "#terminos=pd.DataFrame(otros_terminos)\n",
    "#others=pd.concat([mayor_A_10,terminos[['GO','Biological Process','GENE PRODUCT ID','Value']]],axis=0)\n",
    "#others[['GO','Biological Process','Value']].to_csv('../data/Experimento2_GOslim_blast/Biological_Process.csv',index=None)\n",
    "#others#.head()"
   ]
  },
  {
   "cell_type": "code",
   "execution_count": null,
   "metadata": {},
   "outputs": [],
   "source": [
    "## matriz para ver intersecciones entre terminos\n",
    "up_process=anotacion_sindup[anotacion_sindup['SLIM ASPECT'].str.contains(\"P\")==True]\n",
    "upset_process=up_process.pivot_table(values=\"TERM\",index=[\"GENE PRODUCT ID\"],aggfunc=len,columns=\"GO TERM\").fillna('0').reset_index().rename(columns={\"GENE PRODUCT ID\":\"Entry\"})\n",
    "upset_process.to_csv('../data/Experimento2_GOslim_blast/Biological_Process_matrix.csv',index=None)\n",
    "upset_process.head()"
   ]
  },
  {
   "cell_type": "markdown",
   "metadata": {},
   "source": [
    "# <span style=\"color:red\">\" Crea el grafico DAG como en Funcion molecular \"</span><br/>"
   ]
  },
  {
   "cell_type": "code",
   "execution_count": null,
   "metadata": {},
   "outputs": [],
   "source": []
  },
  {
   "cell_type": "markdown",
   "metadata": {},
   "source": [
    "## Componente celular"
   ]
  },
  {
   "cell_type": "code",
   "execution_count": null,
   "metadata": {},
   "outputs": [],
   "source": [
    "## Cellular Component\n",
    "comp=anotacion_sindup.groupby(['SLIM ASPECT']).get_group('C')\n",
    "component=comp.groupby(['GO TERM','TERM']).count().reset_index().rename(columns={\"GO TERM\":\"GO\",\"TERM\": \"Cellular Component\",\"SLIM ASPECT\": \"Value\"}).sort_values(by ='Value',ascending=False).reset_index(drop=True)\n",
    "component[['GO','Cellular Component','Value']].to_csv('../data/Experimento2_GOslim_blast/Cellular_Component.csv',index=None)\n",
    "component\n",
    "#mayor_A_10=component[(component.Value >= 1)]\n",
    "#menor_A_10=component[(component.Value < 1)]\n",
    "#otros_terminos={'GO':['GOs'],'Cellular Component':['Other Components'],'GENE PRODUCT ID':[sum(menor_A_10.Value)],'Value':[sum(menor_A_10.Value)]}\n",
    "#terminos=pd.DataFrame(otros_terminos)\n",
    "#others=pd.concat([mayor_A_10,terminos[['GO','Cellular Component','GENE PRODUCT ID','Value']]],axis=0)\n",
    "#others[['GO','Cellular Component','Value']].to_csv('../data/Experimento2_GOslim_blast/Cellular_Component.csv',index=None)\n",
    "#others#.head()"
   ]
  },
  {
   "cell_type": "code",
   "execution_count": null,
   "metadata": {},
   "outputs": [],
   "source": [
    "## matriz para ver intersecciones entre terminos\n",
    "up_component=anotacion_sindup[anotacion_sindup['SLIM ASPECT'].str.contains(\"C\")==True]\n",
    "upset_component=up_component.pivot_table(values=\"TERM\",index=[\"GENE PRODUCT ID\"],aggfunc=len,columns=\"GO TERM\").fillna('0').reset_index()\n",
    "upset_component.to_csv('../data/Experimento2_GOslim_blast/Cellular_Component_matrix.csv',index=None)\n",
    "upset_component.head()"
   ]
  },
  {
   "cell_type": "markdown",
   "metadata": {},
   "source": [
    "# <span style=\"color:red\">\" Crea el grafico DAG como en Funcion molecular \"</span><br/>"
   ]
  },
  {
   "cell_type": "code",
   "execution_count": null,
   "metadata": {},
   "outputs": [],
   "source": []
  },
  {
   "cell_type": "markdown",
   "metadata": {},
   "source": [
    "## 5.- Transcritos anotados y no anotados"
   ]
  },
  {
   "cell_type": "code",
   "execution_count": null,
   "metadata": {},
   "outputs": [],
   "source": [
    "## Creamos un df con todos losidentificadores de la secuencia fasta\n",
    "reads=Popen(\"grep  '>' ../data/fasta/8_S356_contigs.fa | sed 's/>//g' | cut -d' ' -f1 > ../data/Experimento2_GOslim_blast/reads.txt\",\n",
    "          shell=True, stdin=PIPE, stdout=PIPE, stderr=STDOUT, close_fds=True).stdout.read().decode()\n",
    "reads=pd.read_table('../data/Experimento2_GOslim_blast/reads.txt',header=None,names=['qacc'])\n",
    "reads.head()"
   ]
  },
  {
   "cell_type": "code",
   "execution_count": null,
   "metadata": {},
   "outputs": [],
   "source": [
    "## cuantos transcritos codifican a X proteina\n",
    "trans=blastx.groupby('GENE PRODUCT ID')['qacc'].count().reset_index().sort_values(by ='qacc',ascending=False).reset_index(drop=True)\n",
    "trans= DataFrame(trans)\n",
    "trans"
   ]
  },
  {
   "cell_type": "code",
   "execution_count": null,
   "metadata": {},
   "outputs": [],
   "source": [
    "print('Transcritos en fasta:     ',reads.drop_duplicates().count()[0])\n",
    "print('Transcritos codificantes: ',blastx[['GENE PRODUCT ID']].count()[0])\n",
    "print('Transcritos restantes:    ',reads.drop_duplicates().count()[0] - blastx[['GENE PRODUCT ID']].count()[0])"
   ]
  },
  {
   "cell_type": "code",
   "execution_count": null,
   "metadata": {},
   "outputs": [],
   "source": []
  },
  {
   "cell_type": "code",
   "execution_count": null,
   "metadata": {
    "scrolled": false
   },
   "outputs": [],
   "source": [
    "## Esta tabla resume datos de las proteinas que fueron identificadas con el blastx\n",
    "final=pd.merge(trans,anotacion[['GENE PRODUCT ID','SYMBOL','PROTEIN NAME','ORGANISM']],on='GENE PRODUCT ID',how='left' ).drop_duplicates().reset_index(drop=True)\n",
    "final"
   ]
  },
  {
   "cell_type": "code",
   "execution_count": null,
   "metadata": {},
   "outputs": [],
   "source": [
    "## visualizamos los transcritos que codifican para Q9NBX4\n",
    "blastx[blastx['GENE PRODUCT ID'].str.contains('Q9NBX4')][['qacc']]"
   ]
  },
  {
   "cell_type": "code",
   "execution_count": null,
   "metadata": {},
   "outputs": [],
   "source": []
  },
  {
   "cell_type": "code",
   "execution_count": null,
   "metadata": {
    "scrolled": true
   },
   "outputs": [],
   "source": [
    "## Archivo para generar un diagrama de Venn, intersecciones entre categorias, total de proteinas por categoria\n",
    "ff=anotacion[anotacion['SLIM ASPECT'].str.contains(\"F\")==True]\n",
    "pp=anotacion[anotacion['SLIM ASPECT'].str.contains(\"P\")==True]\n",
    "cc=anotacion[anotacion['SLIM ASPECT'].str.contains(\"C\")==True]\n",
    "cats=[pp[['GENE PRODUCT ID']],ff[['GENE PRODUCT ID']],cc[['GENE PRODUCT ID']]]\n",
    "categorias=pd.concat(cats, axis=1, ignore_index=True).rename(columns={0:\"Process\",1:'Function',2:'Component'},index=str).drop_duplicates().reset_index(drop=True)\n",
    "categorias.to_csv('../data/Experimento2_GOslim_blast/cats.csv',index=None) \n",
    "categorias"
   ]
  },
  {
   "cell_type": "code",
   "execution_count": null,
   "metadata": {},
   "outputs": [],
   "source": []
  },
  {
   "cell_type": "code",
   "execution_count": null,
   "metadata": {},
   "outputs": [],
   "source": []
  }
 ],
 "metadata": {
  "kernelspec": {
   "display_name": "Python 3",
   "language": "python",
   "name": "python3"
  },
  "language_info": {
   "codemirror_mode": {
    "name": "ipython",
    "version": 3
   },
   "file_extension": ".py",
   "mimetype": "text/x-python",
   "name": "python",
   "nbconvert_exporter": "python",
   "pygments_lexer": "ipython3",
   "version": "3.6.4"
  }
 },
 "nbformat": 4,
 "nbformat_minor": 2
}
