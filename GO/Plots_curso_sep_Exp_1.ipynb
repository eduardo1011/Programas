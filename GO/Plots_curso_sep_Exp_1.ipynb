{
 "cells": [
  {
   "cell_type": "markdown",
   "metadata": {},
   "source": [
    "# <br/><br/><br/><br/><br/>Esta bitacora procesa datos obtenidos de un proteoma<br/><br/><br/><br/><br/>"
   ]
  },
  {
   "cell_type": "markdown",
   "metadata": {},
   "source": [
    "# Paquetes<br/>"
   ]
  },
  {
   "cell_type": "code",
   "execution_count": null,
   "metadata": {},
   "outputs": [],
   "source": [
    "## Paquetes\n",
    "library(colorRamps)\n",
    "library(cowplot)\n",
    "library(dplyr)\n",
    "library(ggplot2)\n",
    "library(ggpubr)\n",
    "#library(GOplot)\n",
    "library(grid)\n",
    "library(gridExtra)\n",
    "library(IRdisplay)\n",
    "library(plyr)\n",
    "library(RColorBrewer)\n",
    "library(reshape2)\n",
    "library(RSVGTipsDevice)\n",
    "library(scales)\n",
    "library(shiny)\n",
    "library(shinythemes)\n",
    "library(UpSetR)\n",
    "library(RCurl)\n",
    "library(wesanderson)\n",
    "library(VennDiagram)\n",
    "library(tidyr)"
   ]
  },
  {
   "cell_type": "markdown",
   "metadata": {},
   "source": [
    "## Arreglos para los graficos<br/>"
   ]
  },
  {
   "cell_type": "code",
   "execution_count": null,
   "metadata": {},
   "outputs": [],
   "source": [
    "## configuracion del fondo y bordes para los graficos pie chart y bar plot\n",
    "pie_blank_theme = theme_minimal()+\n",
    "  theme(\n",
    "  axis.text.x=element_blank(),\n",
    "  axis.title.x = element_blank(),\n",
    "  axis.title.y = element_blank(),\n",
    "  panel.border = element_blank(),\n",
    "  panel.grid=element_blank(),\n",
    "  axis.ticks = element_blank(),\n",
    "  )\n",
    "bar_blank_theme = theme(\n",
    "axis.ticks.y=element_blank(),\n",
    "panel.background = element_rect(fill = \"white\"),#cambia el color del fondo del grafico\n",
    "axis.ticks = element_blank(), # elimina las marcas en la linea de escala de los ejes x y\n",
    "axis.text.x = element_blank(),#elimina la escala del eje x\n",
    "axis.line=element_blank(),\n",
    "axis.ticks.x=element_blank(),\n",
    ")"
   ]
  },
  {
   "cell_type": "code",
   "execution_count": null,
   "metadata": {},
   "outputs": [],
   "source": [
    "colors=c(brewer.pal(12,\"Set3\"),brewer.pal(8,\"Set2\"),brewer.pal(12,\"Paired\"),brewer.pal(8,\"Dark2\"),\n",
    "         brewer.pal(8,\"Accent\"),brewer.pal(12,\"Set3\"),brewer.pal(8,\"Set2\"),brewer.pal(12,\"Paired\"),\n",
    "         brewer.pal(8,\"Dark2\"),brewer.pal(8,\"Accent\"),brewer.pal(12,\"Set3\"),brewer.pal(8,\"Set2\"),\n",
    "         brewer.pal(12,\"Paired\"),brewer.pal(8,\"Dark2\"),brewer.pal(8,\"Accent\"))"
   ]
  },
  {
   "cell_type": "code",
   "execution_count": null,
   "metadata": {},
   "outputs": [],
   "source": [
    "dir.create('~/Desktop/data/Experimento1_GOslim/images') ## creamos un directorio donde se depositaran los graficos creados"
   ]
  },
  {
   "cell_type": "code",
   "execution_count": null,
   "metadata": {},
   "outputs": [],
   "source": []
  },
  {
   "cell_type": "markdown",
   "metadata": {},
   "source": [
    "# Plot 1: Pie chart Total Proteins/GO terms for C F P<br/>"
   ]
  },
  {
   "cell_type": "code",
   "execution_count": null,
   "metadata": {
    "scrolled": false
   },
   "outputs": [],
   "source": [
    "frec_CFP=read.csv(\"../data/Experimento1_GOslim/Total_categories_CFP.csv\",header =F)\n",
    "frec_CFP"
   ]
  },
  {
   "cell_type": "code",
   "execution_count": null,
   "metadata": {},
   "outputs": [],
   "source": [
    "colnames(frec_CFP)=c(\"Aspect\",\"Value\") ## para cambiar la etiqueta del data frame \n",
    "#total_CFP=sum(frec_CFP$Value)\n",
    "#total_CFP\n",
    "frec_CFP"
   ]
  },
  {
   "cell_type": "code",
   "execution_count": null,
   "metadata": {
    "scrolled": false
   },
   "outputs": [],
   "source": [
    "total_CFP = frec_CFP %>% \n",
    "mutate(Aspect=factor(Aspect,levels=Aspect[length(Aspect):1]),\n",
    "      cumulative=cumsum(Value),\n",
    "      midpoint=cumulative - (Value/2),\n",
    "      #labels=paste0(round((Value/sum(Value))*100,1),\"%\"))\n",
    "      #labels=paste0(round((Value/sum(Value))*100,1),\"%\",\" (\",Value,\") \"))\n",
    "      labels=paste0(round((Value/sum(Value))*100,1),\"%\"))\n",
    "#table_labels  ## activar para visualizar \n",
    "total_CFP_secretoma=ggplot(total_CFP, aes(x = \"\", y = Value,fill =Aspect))+\n",
    "pie_blank_theme+\n",
    "geom_bar(width = 1,stat = \"identity\")+\n",
    "        coord_polar(theta = \"y\",start = 0)+\n",
    "scale_fill_manual(values = colors)+\n",
    "        #scale_fill_brewer(palette = \"Paired\")+\n",
    "        #scale_fill_manual(values = color) +\n",
    "        labs(x = \"\",y = \"\",title = \"Total GO terms\",fill=\"Aspect\")+\n",
    "geom_text(aes(x = 1.1, y = midpoint,label = labels),color=\"black\",\n",
    "          fontface = \"bold\",size = 5)+\n",
    "theme(plot.title = element_text(hjust =0.5,,size=15,margin=margin(b =-10,unit=\"pt\"),face=\"bold\"),\n",
    "legend.text=element_text(colour=\"black\",size=12),#color y tamaño del texto de la leyenda\n",
    "legend.margin=margin(b = c(0,-1), unit = \"cm\"),#distancia entre la leyenda y el grafico\n",
    "legend.title = element_text(hjust = 0.5,face=\"bold\",size = 12))\n",
    "ggsave(\"../data/Experimento1_GOslim/images/Total_categories_CFP.png\",width=7,height=7,dpi=600)\n",
    "total_CFP_secretoma"
   ]
  },
  {
   "cell_type": "markdown",
   "metadata": {},
   "source": [
    "# Intersecciones"
   ]
  },
  {
   "cell_type": "markdown",
   "metadata": {},
   "source": [
    "# Plot 2: Venn Diagram for F C P<br/>"
   ]
  },
  {
   "cell_type": "code",
   "execution_count": null,
   "metadata": {
    "scrolled": true
   },
   "outputs": [],
   "source": [
    "cats=read.csv(\"../data/Experimento1_GOslim/cats.csv\",header=TRUE)\n",
    "head(cats)"
   ]
  },
  {
   "cell_type": "code",
   "execution_count": null,
   "metadata": {},
   "outputs": [],
   "source": [
    "procc=dplyr::filter(cats,  !is.na(Process))\n",
    "proceso=as.character(procc$Process)\n",
    "funcc=dplyr::filter(cats,  !is.na(Function))\n",
    "funcion=as.character(funcc$Function)\n",
    "compp=dplyr::filter(cats,  !is.na(Component))\n",
    "componente=as.character(compp$Component)"
   ]
  },
  {
   "cell_type": "code",
   "execution_count": null,
   "metadata": {
    "scrolled": true
   },
   "outputs": [],
   "source": [
    "## Una forma de visualizar las agrupaciones\n",
    "overlapping = calculate.overlap(x= list(\"funcion\" = funcion,\"componente\" = componente,\"proceso\"=proceso));\n",
    "overlapping   ##<<<<< activar la orden para ver la distribucion de los conjuntos"
   ]
  },
  {
   "cell_type": "code",
   "execution_count": null,
   "metadata": {
    "scrolled": false
   },
   "outputs": [],
   "source": [
    "## solo visualizacion del diagrama de Venn en alta resolucion\n",
    "plot=venn.diagram(list(\"F\" = funcion,\"C\" = componente,\"P\"=proceso),\n",
    "              fill = colors[c(24,28,30)], #c('yellow', 'purple', 'green'),\n",
    "              main = \"Categories F C P\", main.cex = 1.7,main.fontface=2,\n",
    "              alpha = c(0.4,0.4,0.4), cex = 1.5,cat.fontface = 1,cat.fontfamily = \"sans\",\n",
    "              lty =0, filename=NULL, cat.cex=2, cat.dist = c(0.045, 0.02, 0.04),\n",
    "              cat.just=list(c(0.4,1) , c(0,0) , c(0,0)))\n",
    "grid.newpage()\n",
    "grid.draw(plot)\n",
    "## por cada ejecucion de este comando se genera un historial en el directorio,\n",
    "## los archivos tienen extencioń .log, se pueden eliminar para no saturar el directorio."
   ]
  },
  {
   "cell_type": "code",
   "execution_count": null,
   "metadata": {},
   "outputs": [],
   "source": [
    "## si esta satisfecho con el diagrama anterior, salvar la imagen con la siguiente orden\n",
    "venn.diagram(list(\"F\" = funcion,\"C\" = componente,\"P\"=proceso),\n",
    "              fill =  colors[c(24,28,30)],#c('yellow', 'purple', 'green'),main = \"Categories F C P\", main.cex = 2,\n",
    "              alpha = c(0.3, 0.3,0.3), cex = 2.5,cat.fontface = 2,cat.fontfamily = \"sans\",\n",
    "              lty =0, filename='../data/Experimento1_GOslim/images/frecuencias_F_C_P_venn.tiff', cat.cex=2, cat.dist = c(0.045, 0.02, 0.05),\n",
    "              cat.just=list(c(0.6,1) , c(0,0) , c(0,0)))\n",
    "## Con este comando eliminamos los reportes que se generan cada vez que visualizamos o salvamos este grafico,  \n",
    "delete_report=dir(path=\"~/Desktop/data/Experimento1_GOslim/images/\",pattern=\"[0-9].log\",recursive=T,full.names=T) ## se guarda una lista de ficheros con extension .log\n",
    "delete_report2=dir(path=\"~/Desktop/jupyter/\",pattern=\"[0-9].log\",recursive=T,full.names=T) ## se guarda una lista de ficheros con extension .log\n",
    "file.remove(delete_report) ## elimina todos los ficheros con extension .log\n",
    "file.remove(delete_report2) ## elimina todos los ficheros con extension .log"
   ]
  },
  {
   "cell_type": "code",
   "execution_count": null,
   "metadata": {},
   "outputs": [],
   "source": []
  },
  {
   "cell_type": "markdown",
   "metadata": {},
   "source": [
    "# Plot 3: Pie chart / Bar / Intersections plot of Molecular Function\n",
    "## Pie Chart"
   ]
  },
  {
   "cell_type": "code",
   "execution_count": null,
   "metadata": {},
   "outputs": [],
   "source": [
    "## abrimos el fichero los resultados para proceso\n",
    "aspect_f=read.csv(\"../data/Experimento1_GOslim/Molecular_Function.csv\")\n",
    "head(aspect_f)"
   ]
  },
  {
   "cell_type": "markdown",
   "metadata": {},
   "source": [
    "    * mutate: permite agregar una nueva columna o transformar una existente\n",
    "    * pipe (%>%) es un operador que permite encadenar funciones, esto ayuda enormemente a mejorar la legibilidad del código"
   ]
  },
  {
   "cell_type": "code",
   "execution_count": null,
   "metadata": {},
   "outputs": [],
   "source": [
    "## \n",
    "f_proportion= aspect_f%>% #preparamos la variable para aplicarle funciones\n",
    "mutate(f.prop=Value/sum(Value))%>%\n",
    "mutate(f.proportion=percent(Value/sum(Value)))%>% #obtenemos el \"%\" y lo agregamos al df inicial\n",
    "mutate(Function=paste(Molecular.Function,f.proportion))%>% #fusionamos los terminos y el \"%\" para visualizacion\n",
    "#convertimos los datos de la columna Process a una variable categorica (factor)\n",
    "#porque inicialmente es reconocida como caracter y no permite ordenar los datos en el grafico\n",
    "#con la siguiente orden condiguramos el orden de los datos en el grafico y la leyenda\n",
    "mutate(Function=factor(Function,levels=Function[1:length(Function)]))\n",
    "#[length(Process):0] con esta orden se cambia el sentido de los datos en el grafico\n",
    "# con \"class\" podemos ver la clase del objeto\n",
    "head(f_proportion)"
   ]
  },
  {
   "cell_type": "code",
   "execution_count": null,
   "metadata": {},
   "outputs": [],
   "source": [
    "pie_molecular_function=ggplot(f_proportion,aes(x=\"\",y=Value,fill=Function))+#introduccion de datos a graficar\n",
    "pie_blank_theme+#elimina el color de fondo del grafico\n",
    "geom_bar(width =1,stat =\"identity\")+#\n",
    "coord_polar(theta=\"y\",start=0)+#orientacion del grafico, empieza en 0°\n",
    "scale_fill_manual(values=colors)+# colores del grafico\n",
    "ggtitle(\"Molecular Function\") + # agrega titulo al grafico\n",
    "theme(legend.title=element_text(colour=\"white\",size=7,face=\"bold\"),#color, tamaño y formato del titulo de la leyenda\n",
    "legend.text=element_text(colour=\"black\",size=8),#color y tamaño del texto de la leyenda\n",
    "plot.title=element_text(hjust=.5,size=12,margin=margin(b =-12,unit=\"pt\"),face=\"bold\"),# posicion,tamaño del titulo, y espacio entre el titulo y el grafico\n",
    "legend.key.width=unit(0.2,\"cm\"),#ancho de la figura de la leyenda\n",
    "legend.key.height=unit(0.4,\"cm\"),#alto de la figura de la leyenda, espacio entre el texto de la leyenda\n",
    "legend.margin=margin(b = c(.1,-1), unit = \"cm\"),#distancia entre la leyenda y el grafico\n",
    "legend.position= \"right\", #\"bottom\",\n",
    "plot.margin=margin(.5,2,5,.1,\"cm\"))#margenes exteriores de todo el grafico\n",
    "ggsave(\"../data/Experimento1_GOslim/images/Pie_Molecular_Function.png\",width=7,height=7,dpi=600)#,compression='lzw')#guarda y reedita la figura guardada cada vez que se hacen cambios y se ejecuta el comando\n",
    "pie_molecular_function\n",
    "#display_png(file=\"/home/lalo/Escritorio/curso/plots/pie_biological_process.png\")"
   ]
  },
  {
   "cell_type": "markdown",
   "metadata": {},
   "source": [
    "## Bar Plot"
   ]
  },
  {
   "cell_type": "code",
   "execution_count": null,
   "metadata": {},
   "outputs": [],
   "source": [
    "bar_molecular_function=ggplot(f_proportion,aes(x=Molecular.Function,y=f.prop))+#introduccion de datos a graficar\n",
    "geom_bar(width=0.6,fill=rev(colors[1:nrow(aspect_f)]),stat =\"identity\")+#ancho y color de relleno de las barras\n",
    "labs(x =\"\",y =\"\",title=\"Molecular Function\")+#titulo de eje y, x y titulo de grafico\n",
    "coord_flip()+#para crear graficos horizontales\n",
    "bar_blank_theme+#elimina el color de fondo del grafico\n",
    "#scale_x_discrete(limits=p_proportion$Biological.Process)+  #orden descendente del grafico\n",
    "scale_x_discrete(limits=rev(f_proportion$Molecular.Function))+ #orden ascendente del grafico\n",
    "geom_text(aes(x=Molecular.Function,y=f.prop+0.012,#configura el espacio entre la etiqueta de datos y el eje x  \n",
    "label=percent(f.prop)),size=2.5)+#configura el valor de la etiqueta de datos y el tamaño de letra\n",
    "theme(plot.title = element_text(hjust = .1,size = 12,face=\"bold\"),#posocion y tamaño del titulo sobre el grafico\n",
    "axis.text.y = element_text(size = 8,color=\"black\"),#tamaño y color de texto de eje x\n",
    "axis.ticks.length=unit(-.3, \"cm\"), #reduce la longitud de las marcas en la linea de escala de los ejes x y\n",
    "plot.margin = margin(1,.5,9,.1, \"cm\"))#margenes exteriores del grafico\n",
    "ggsave(\"../data/Experimento1_GOslim/images/Bar_Molecular_Function.png\",width=7,height=7,dpi=600)#,compression='lzw')\n",
    "#ggsave(\"./plots/bar_biological_process.pdf\",width=7,height=7,dpi=600) #pdf\n",
    "bar_molecular_function\n",
    "#display_png(file=\"/home/lalo/Escritorio/curso/plots/bar_biological_process.png\")"
   ]
  },
  {
   "cell_type": "markdown",
   "metadata": {},
   "source": [
    "# Other intersection form"
   ]
  },
  {
   "cell_type": "code",
   "execution_count": null,
   "metadata": {},
   "outputs": [],
   "source": [
    "display_jpeg(RCurl::getBinaryURL('https://raw.githubusercontent.com/eduardo1011/Programas/master/interactios.jpg'))"
   ]
  },
  {
   "cell_type": "markdown",
   "metadata": {},
   "source": [
    "## Intersections"
   ]
  },
  {
   "cell_type": "code",
   "execution_count": null,
   "metadata": {},
   "outputs": [],
   "source": [
    "head(aspect_f)"
   ]
  },
  {
   "cell_type": "code",
   "execution_count": null,
   "metadata": {},
   "outputs": [],
   "source": [
    "# check.names=FALSE  hace que no se pierdan los dos puntos en los names de las columnas\n",
    "up_function=read.csv(\"../data/Experimento1_GOslim/Molecular_Function_matrix.csv\",header=TRUE,check.names=FALSE)\n",
    "head(up_function)"
   ]
  },
  {
   "cell_type": "code",
   "execution_count": null,
   "metadata": {},
   "outputs": [],
   "source": [
    "## Seleccion de GO IDs de interes para ver sus intersecciones\n",
    "go_function=as.character(aspect_f$GO[1:6])\n",
    "go_function"
   ]
  },
  {
   "cell_type": "code",
   "execution_count": null,
   "metadata": {},
   "outputs": [],
   "source": [
    "## intersecciones entre terminos, esto puede sustituir diagramas de ven con mas de 5 conjuntos\n",
    "##\n",
    "## c(intersection size title, intersection size tick labels, set size title, set size tick labels, set names, numbers above bars)\n",
    "#      text.scale = c(1.5,1.5,0,1.5,1,1.5),\n",
    "##\n",
    "png(file=\"../data/Experimento1_GOslim/images/Function_Intersections.png\",width = 10,height = 10,units = \"in\",res=500,bg=\"white\")\n",
    "up_fun= function() {\n",
    "    upset(up_function,sets=go_function,\n",
    "          sets.bar.color = colors[1:length(go_function)],order.by = \"freq\",empty.intersections = NULL,point.size=2,\n",
    "          mainbar.y.label=\"Functional annotation by GO (MF)\",main.bar.color=colors[10],\n",
    "          matrix.color=\"black\",shade.color=colors[6],line.size=0.5,show.numbers = \"yes\",group.by = \"degree\",\n",
    "          text.scale = c(1.5,1.5,0,1.5,1,1.5),\n",
    "          matrix.dot.alpha = 0.5,mb.ratio = c(0.7, 0.3))\n",
    "}\n",
    "up_fun()\n",
    "dev.off()\n",
    "#\n",
    "up_fun()"
   ]
  },
  {
   "cell_type": "code",
   "execution_count": null,
   "metadata": {},
   "outputs": [],
   "source": []
  },
  {
   "cell_type": "markdown",
   "metadata": {},
   "source": [
    "# Plot 4: Pie chart / Bar / Intersections plot of Biological process\n",
    "## Pie Chart"
   ]
  },
  {
   "cell_type": "code",
   "execution_count": null,
   "metadata": {
    "scrolled": false
   },
   "outputs": [],
   "source": [
    "## abrimos el fichero los resultados para proceso\n",
    "aspect_p=read.csv(\"../data/Experimento1_GOslim/Biological_Process.csv\")\n",
    "head(aspect_p)"
   ]
  },
  {
   "cell_type": "markdown",
   "metadata": {},
   "source": [
    "    * mutate: permite agregar una nueva columna o transformar una existente\n",
    "    * pipe (%>%) es un operador que permite encadenar funciones, esto ayuda enormemente a mejorar la legibilidad del código"
   ]
  },
  {
   "cell_type": "code",
   "execution_count": null,
   "metadata": {
    "scrolled": true
   },
   "outputs": [],
   "source": [
    "##  \n",
    "p_proportion= aspect_p%>% #preparamos la variable para aplicarle funciones\n",
    "mutate(p.prop=Value/sum(Value))%>%\n",
    "mutate(p.proportion=percent(Value/sum(Value)))%>% #obtenemos el \"%\" y lo agregamos al df inicial\n",
    "mutate(Process=paste(Biological.Process,p.proportion))%>% #fusionamos los terminos y el \"%\" para visualizacion\n",
    "#convertimos los datos de la columna Process a una variable categorica (factor)\n",
    "#porque inicialmente es reconocida como caracter y no permite ordenar los datos en el grafico\n",
    "#con la siguiente orden condiguramos el orden de los datos en el grafico y la leyenda\n",
    "mutate(Process=factor(Process,levels=Process[1:length(Process)]))\n",
    "#[length(Process):0] con esta orden se cambia el sentido de los datos en el grafico\n",
    "# con \"class\" podemos ver la clase del objeto\n",
    "head(p_proportion)"
   ]
  },
  {
   "cell_type": "code",
   "execution_count": null,
   "metadata": {
    "scrolled": false
   },
   "outputs": [],
   "source": [
    "pie_biological_process=ggplot(p_proportion,aes(x=\"\",y=Value,fill=Process))+#introduccion de datos a graficar\n",
    "pie_blank_theme+#elimina el color de fondo del grafico\n",
    "geom_bar(width =1,stat =\"identity\")+#\n",
    "coord_polar(theta=\"y\",start=0)+#orientacion del grafico, empieza en 0°\n",
    "scale_fill_manual(values=colors)+# colores del grafico\n",
    "ggtitle(\"Biological Process\") + # agrega titulo al grafico\n",
    "theme(legend.title=element_text(colour=\"white\",size=7,face=\"bold\"),#color, tamaño y formato del titulo de la leyenda\n",
    "legend.text=element_text(colour=\"black\",size=8),#color y tamaño del texto de la leyenda\n",
    "plot.title=element_text(hjust=.5,size=12,margin=margin(b =-12,unit=\"pt\"),face=\"bold\"),# posicion,tamaño del titulo, y espacio entre el titulo y el grafico\n",
    "legend.key.width=unit(0.2,\"cm\"),#ancho de la figura de la leyenda\n",
    "legend.key.height=unit(0.4,\"cm\"),#alto de la figura de la leyenda\n",
    "legend.margin=margin(b = c(.1,-1), unit = \"cm\"),#distancia entre la leyenda y el grafico\n",
    "legend.position= \"right\", #\"bottom\",\n",
    "plot.margin=margin(.5,1,5,.1,\"cm\"))#margenes exteriores de todo el grafico\n",
    "ggsave(\"../data/Experimento1_GOslim/images/Pie_Biological_Process.png\",width=7,height=7,dpi=600)#,compression='lzw')#guarda y reedita la figura guardada cada vez que se hacen cambios y se ejecuta el comando\n",
    "pie_biological_process\n",
    "#display_png(file=\"/home/lalo/Escritorio/curso/plots/pie_biological_process.png\")"
   ]
  },
  {
   "cell_type": "markdown",
   "metadata": {},
   "source": [
    "## Bar Plot"
   ]
  },
  {
   "cell_type": "code",
   "execution_count": null,
   "metadata": {},
   "outputs": [],
   "source": [
    "bar_biological_process=ggplot(p_proportion,aes(x=Biological.Process,y=p.prop))+#introduccion de datos a graficar\n",
    "geom_bar(width=0.6,fill=rev(colors[1:nrow(aspect_p)]),stat =\"identity\")+#ancho y color de relleno de las barras\n",
    "labs(x =\"\",y =\"\",title=\"Biological process\")+#titulo de eje y, x y titulo de grafico\n",
    "coord_flip()+#para crear graficos horizontales\n",
    "bar_blank_theme+#elimina el color de fondo del grafico\n",
    "#scale_x_discrete(limits=p_proportion$Biological.Process)+  #orden descendente del grafico\n",
    "scale_x_discrete(limits=rev(p_proportion$Biological.Process))+ #orden ascendente del grafico\n",
    "geom_text(aes(x=Biological.Process,y=p.prop+0.012,#configura el espacio entre la etiqueta de datos y el eje x  \n",
    "label=percent(p.prop)),size=2.5)+#configura el valor de la etiqueta de datos y el tamaño de letra\n",
    "theme(plot.title = element_text(hjust = .1,size = 12,face=\"bold\"),#posocion y tamaño del titulo sobre el grafico\n",
    "axis.text.y = element_text(size = 8,color=\"black\"),#tamaño y color de texto de eje x\n",
    "axis.ticks.length=unit(-.3, \"cm\"), #reduce la longitud de las marcas en la linea de escala de los ejes x y\n",
    "plot.margin = margin(1,.5,9,.1, \"cm\"))#margenes exteriores del grafico\n",
    "ggsave(\"../data/Experimento1_GOslim/images/Bar_Biological_Process.png\",width=7,height=7,dpi=600)#,compression='lzw')\n",
    "#ggsave(\"./plots/bar_biological_process.pdf\",width=7,height=7,dpi=600) #pdf\n",
    "bar_biological_process\n",
    "#display_png(file=\"/home/lalo/Escritorio/curso/plots/bar_biological_process.png\")"
   ]
  },
  {
   "cell_type": "markdown",
   "metadata": {},
   "source": [
    "## Intersections"
   ]
  },
  {
   "cell_type": "code",
   "execution_count": null,
   "metadata": {},
   "outputs": [],
   "source": [
    "head(aspect_p)"
   ]
  },
  {
   "cell_type": "code",
   "execution_count": null,
   "metadata": {},
   "outputs": [],
   "source": [
    "# check.names=FALSE  hace que no se pierdan los dos puntos en los names de las columnas\n",
    "up_process=read.csv(\"../data/Experimento1_GOslim/Biological_Process_matrix.csv\",header=TRUE,check.names=FALSE)\n",
    "head(up_process)"
   ]
  },
  {
   "cell_type": "code",
   "execution_count": null,
   "metadata": {},
   "outputs": [],
   "source": [
    "## Seleccion de GO IDs de interes para ver sus intersecciones\n",
    "go_process=as.character(aspect_p$GO[1:6])\n",
    "go_process"
   ]
  },
  {
   "cell_type": "code",
   "execution_count": null,
   "metadata": {},
   "outputs": [],
   "source": [
    "## intersecciones entre términos, esto puede sustituir diagramas de ven con más de 5 conjuntos\n",
    "png(file=\"../data/Experimento1_GOslim/images/Process_Intersections.png\",width = 10,height = 10,units = \"in\",res=500,bg=\"white\")\n",
    "up_proc= function() {\n",
    "    upset(up_process,sets=go_process,\n",
    "          sets.bar.color = colors[1:6],order.by = \"freq\",empty.intersections = NULL,point.size=2,\n",
    "          mainbar.y.label=\"Functional annotation by GO (BP)\",main.bar.color=colors[10],\n",
    "          matrix.color=\"black\",shade.color=colors[6],line.size=0.5,show.numbers = \"yes\",group.by = \"degree\",\n",
    "          text.scale = c(1.5,1.5,0,1.5,1,1.5),\n",
    "          matrix.dot.alpha = 0.5,mb.ratio = c(0.7, 0.3))\n",
    "}\n",
    "up_proc()\n",
    "dev.off()\n",
    "#\n",
    "up_proc()"
   ]
  },
  {
   "cell_type": "code",
   "execution_count": null,
   "metadata": {},
   "outputs": [],
   "source": []
  },
  {
   "cell_type": "markdown",
   "metadata": {},
   "source": [
    "# Plot 5: Pie chart / Bar / Intersections plot of Cellular Component\n",
    "## Pie Chart"
   ]
  },
  {
   "cell_type": "code",
   "execution_count": null,
   "metadata": {},
   "outputs": [],
   "source": [
    "## abrimos el fichero los resultados para proceso\n",
    "aspect_c=read.csv(\"../data/Experimento1_GOslim/Cellular_Component.csv\")\n",
    "head(aspect_c)"
   ]
  },
  {
   "cell_type": "markdown",
   "metadata": {},
   "source": [
    "    * mutate: permite agregar una nueva columna o transformar una existente\n",
    "    * pipe (%>%) es un operador que permite encadenar funciones, esto ayuda enormemente a mejorar la legibilidad del código"
   ]
  },
  {
   "cell_type": "code",
   "execution_count": null,
   "metadata": {},
   "outputs": [],
   "source": [
    "## solo estoy egraficando los primeros 15 terminos \n",
    "c_proportion= aspect_c%>% #preparamos la variable para aplicarle funciones\n",
    "mutate(c.prop=Value/sum(Value))%>%\n",
    "mutate(c.proportion=percent(Value/sum(Value)))%>% #obtenemos el \"%\" y lo agregamos al df inicial\n",
    "mutate(Component=paste(Cellular.Component,c.proportion))%>% #fusionamos los terminos y el \"%\" para visualizacion\n",
    "#convertimos los datos de la columna Process a una variable categorica (factor)\n",
    "#porque inicialmente es reconocida como caracter y no permite ordenar los datos en el grafico\n",
    "#con la siguiente orden condiguramos el orden de los datos en el grafico y la leyenda\n",
    "mutate(Component=factor(Component,levels=Component[1:length(Component)]))\n",
    "#[length(Process):0] con esta orden se cambia el sentido de los datos en el grafico\n",
    "# con \"class\" podemos ver la clase del objeto\n",
    "head(c_proportion)"
   ]
  },
  {
   "cell_type": "code",
   "execution_count": null,
   "metadata": {},
   "outputs": [],
   "source": [
    "pie_cellular_component=ggplot(c_proportion,aes(x=\"\",y=Value,fill=Component))+#introduccion de datos a graficar\n",
    "pie_blank_theme+#elimina el color de fondo del grafico\n",
    "geom_bar(width =1,stat =\"identity\")+#\n",
    "coord_polar(theta=\"y\",start=0)+#orientacion del grafico, empieza en 0°\n",
    "scale_fill_manual(values=colors)+# colores del grafico\n",
    "ggtitle(\"Cellular Component\") + # agrega titulo al grafico\n",
    "theme(legend.title=element_text(colour=\"white\",size=7,face=\"bold\"),#color, tamaño y formato del titulo de la leyenda\n",
    "legend.text=element_text(colour=\"black\",size=8),#color y tamaño del texto de la leyenda\n",
    "plot.title=element_text(hjust=.5,size=12,margin=margin(b =-12,unit=\"pt\"),face=\"bold\"),# posicion,tamaño del titulo, y espacio entre el titulo y el grafico\n",
    "legend.key.width=unit(0.2,\"cm\"),#ancho de la figura de la leyenda\n",
    "legend.key.height=unit(0.4,\"cm\"),#alto de la figura de la leyenda\n",
    "legend.margin=margin(b = c(.1,-1), unit = \"cm\"),#distancia entre la leyenda y el grafico\n",
    "legend.position= \"right\", #\"bottom\",\n",
    "plot.margin=margin(.5,4,5,.1,\"cm\"))#margenes exteriores de todo el grafico\n",
    "ggsave(\"../data/Experimento1_GOslim/images/Pie_Cellular_Component.png\",width=7,height=7,dpi=600)#,compression='lzw')#guarda y reedita la figura guardada cada vez que se hacen cambios y se ejecuta el comando\n",
    "pie_cellular_component\n",
    "#display_png(file=\"/home/lalo/Escritorio/curso/plots/pie_biological_process.png\")"
   ]
  },
  {
   "cell_type": "markdown",
   "metadata": {},
   "source": [
    "## Bar"
   ]
  },
  {
   "cell_type": "code",
   "execution_count": null,
   "metadata": {},
   "outputs": [],
   "source": [
    "bar_cellular_component=ggplot(c_proportion,aes(x=Cellular.Component,y=c.prop))+#introduccion de datos a graficar\n",
    "geom_bar(width=0.6,fill=rev(colors[1:nrow(aspect_c)]),stat =\"identity\")+#ancho y color de relleno de las barras\n",
    "labs(x =\"\",y =\"\",title=\"Cellular Component\")+#titulo de eje y, x y titulo de grafico\n",
    "coord_flip()+#para crear graficos horizontales\n",
    "bar_blank_theme+#elimina el color de fondo del grafico\n",
    "#scale_x_discrete(limits=p_proportion$Biological.Process)+  #orden descendente del grafico\n",
    "scale_x_discrete(limits=rev(c_proportion$Cellular.Component))+ #orden ascendente del grafico\n",
    "geom_text(aes(x=Cellular.Component,y=c.prop+0.01,#configura el espacio entre la etiqueta de datos y el eje x  \n",
    "label=percent(c.prop)),size=2.5)+#configura el valor de la etiqueta de datos y el tamaño de letra\n",
    "theme(plot.title = element_text(hjust = .1,size = 12,face=\"bold\"),#posocion y tamaño del titulo sobre el grafico\n",
    "axis.text.y = element_text(size = 8,color=\"black\"),#tamaño y color de texto de eje x\n",
    "axis.ticks.length=unit(-.5, \"cm\"), #reduce la longitud de las marcas en la linea de escala de los ejes x y\n",
    "plot.margin = margin(1,.5,9,.1, \"cm\"))#margenes exteriores del grafico\n",
    "ggsave(\"../data/Experimento1_GOslim/images/Bar_Cellular_Component.png\",width=7,height=7,dpi=600)#,compression='lzw')\n",
    "#ggsave(\"./plots/bar_biological_process.pdf\",width=7,height=7,dpi=600) #pdf\n",
    "bar_cellular_component\n",
    "#display_png(file=\"/home/lalo/Escritorio/curso/plots/bar_biological_process.png\")"
   ]
  },
  {
   "cell_type": "markdown",
   "metadata": {},
   "source": [
    "## Intersections"
   ]
  },
  {
   "cell_type": "code",
   "execution_count": null,
   "metadata": {},
   "outputs": [],
   "source": [
    "head(aspect_c)"
   ]
  },
  {
   "cell_type": "code",
   "execution_count": null,
   "metadata": {},
   "outputs": [],
   "source": [
    "# check.names=FALSE  hace que no se pierdan los dos puntos en los names de las columnas\n",
    "up_component=read.csv(\"../data/Experimento1_GOslim/Cellular_Component_matrix.csv\",header=TRUE,check.names=FALSE)\n",
    "head(up_component)"
   ]
  },
  {
   "cell_type": "code",
   "execution_count": null,
   "metadata": {},
   "outputs": [],
   "source": [
    "## Seleccion de GO IDs de interes para ver sus intersecciones\n",
    "go_component=as.character(aspect_c$GO[1:6])\n",
    "go_component"
   ]
  },
  {
   "cell_type": "code",
   "execution_count": null,
   "metadata": {},
   "outputs": [],
   "source": [
    "## intersecciones entre términos, esto puede sustituir diagramas de ven con más de 5 conjuntos\n",
    "png(file=\"../data/Experimento1_GOslim/images/Component_Intersections.png\",width = 10,height = 10,units = \"in\",res=500,bg=\"white\")\n",
    "up_comp=function(){\n",
    "    upset(up_component,sets=go_component,\n",
    "          sets.bar.color = colors[1:6],order.by = \"freq\",empty.intersections = NULL,point.size=2,\n",
    "          mainbar.y.label=\"Functional annotation by GO (CC)\",main.bar.color=colors[10],\n",
    "          matrix.color=\"black\",shade.color=colors[6],line.size=0.5,show.numbers = \"yes\",group.by = \"degree\",\n",
    "          text.scale = c(1.5,1.5,0,1.5,1,1.5),\n",
    "          matrix.dot.alpha = 0.5,mb.ratio = c(0.7, 0.3))\n",
    "}\n",
    "up_comp()\n",
    "dev.off()\n",
    "#\n",
    "up_comp()"
   ]
  },
  {
   "cell_type": "code",
   "execution_count": null,
   "metadata": {},
   "outputs": [],
   "source": []
  },
  {
   "cell_type": "code",
   "execution_count": null,
   "metadata": {},
   "outputs": [],
   "source": []
  }
 ],
 "metadata": {
  "kernelspec": {
   "display_name": "R",
   "language": "R",
   "name": "ir"
  },
  "language_info": {
   "codemirror_mode": "r",
   "file_extension": ".r",
   "mimetype": "text/x-r-source",
   "name": "R",
   "pygments_lexer": "r",
   "version": "3.4.3"
  }
 },
 "nbformat": 4,
 "nbformat_minor": 2
}
